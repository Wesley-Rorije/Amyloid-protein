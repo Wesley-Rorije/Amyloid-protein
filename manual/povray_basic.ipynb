{
 "cells": [
  {
   "cell_type": "markdown",
   "metadata": {},
   "source": [
    "# Basic Povray Simulation Example\n",
    "\n",
    "This document describes the most basic usage of the **povray_simulation** Python package that is provided for this course. This library is used to render (*draw*) objects and create animations/ simulations using the Povray ray-tracer (http://www.povray.org). Please briefly read the [Wikipedia](https://en.wikipedia.org/wiki/Ray_tracing_(graphics) document for a basic understanding of ray-tracing as it describes the elements we need to create an image.\n",
    "\n",
    "### Python Imports\n",
    "\n",
    "The code included in this document requires a number of Python libraries which are listed in the [requirements.txt](https://bitbucket.org/mkempenaar/pypovray/raw/master/requirements.txt) file available on the `povray_simulation` repository.\n",
    "\n",
    "This particular example only uses a few of those dependencies, the first one being the [`vapory`](https://github.com/Zulko/vapory) library. This library translates our Python code for creating objects (spheres, cubes, cylinders, etc.) into Povray code. From this library we import the `Sphere` object for drawing a - you guessed it - *sphere*. The `Scene` object can be described as a 'container' that we put all objects in to render (i.e. a camera, lightsources and for this example, a sphere). "
   ]
  },
  {
   "cell_type": "code",
   "execution_count": null,
   "metadata": {
    "collapsed": false
   },
   "outputs": [],
   "source": [
    "from vapory import Sphere, Scene"
   ]
  },
  {
   "cell_type": "markdown",
   "metadata": {},
   "source": [
    "The next - and final - import is from the supplied `povray` package. First we import the `povray` **module** from the `povray` **package** which is a single file containing a number of functions that we use to select the movie type to create and run the actual rendering. If you run the line below in Python Idle you can see which functions and objects are available with the `dir(povray)` command."
   ]
  },
  {
   "cell_type": "code",
   "execution_count": null,
   "metadata": {
    "collapsed": false
   },
   "outputs": [],
   "source": [
    "from povray import povray"
   ]
  },
  {
   "cell_type": "markdown",
   "metadata": {},
   "source": [
    "You will notice that both `import` statements are not in the form of `import vapory` or `import povray` but instead they import only parts of the libraries. Other examples will need to import other parts of the libraries to perform more complex tasks.\n",
    "\n",
    "### Scene Setup\n",
    "\n",
    "To create a basic simulation we need to add a single function that will create a *scene* at a single timepoint. This scene can then be rendered to a *frame* and multiple frames can be combined into a *movie*.\n",
    "\n",
    "This basic idea is used in all examples; each frame is created seperately and then stitched into a movie.\n",
    "\n",
    "For our example we will create a function aptly called *`scene`*:"
   ]
  },
  {
   "cell_type": "code",
   "execution_count": null,
   "metadata": {
    "collapsed": true
   },
   "outputs": [],
   "source": [
    "def scene():\n",
    "    # Create some objects to show\n",
    "    # ...\n",
    "    # Return a Scene() for rendering\n",
    "    return Scene(some_objects)"
   ]
  },
  {
   "cell_type": "markdown",
   "metadata": {},
   "source": [
    "This function [stub](https://en.wikipedia.org/wiki/Method_stub) which doesn't do anything yet, shows that it has one argument named `step` and returns an *instance* of the previously imported `Scene` object. Anything that we would like to have rendered should be given to this `Scene` object as demonstrated below.\n",
    "\n",
    "The `step` argument indicates where in the simulation we are, this can either be a timepoint in seconds (i.e. `1.45`) or an integer defining the frame in a simulation (i.e. `30`). For now we won't do anything with it, it will be useful later when we want to actually create a movie of our simulation.\n",
    "\n",
    "The comments describe what we should put between the function definition and its `return` statement which we will show next.\n",
    "\n",
    "### Scene Objects\n",
    "\n",
    "Let's look at what we **must** give to the `Scene` object for each and every frame:"
   ]
  },
  {
   "cell_type": "code",
   "execution_count": null,
   "metadata": {
    "collapsed": false
   },
   "outputs": [],
   "source": [
    "Scene( povray.default_camera, objects=[povray.default_light] )"
   ]
  },
  {
   "cell_type": "markdown",
   "metadata": {},
   "source": [
    "The statement above shows that we provide two arguments to the `Scene` object, a [`camera`](http://www.povray.org/documentation/view/3.7.0/246/) and a *lightsource*. These two arguments are required if we want to render anything, refer to online explaination of ray-tracing to see why.\n",
    "\n",
    "We specify the camera by using `povray.default_camera` which is a predefined camera that you *can* use. Let's look at how this is defined in the [`models`](https://bitbucket.org/mkempenaar/povray_simulation/raw/master/povray/models.py) module of the `povray` package:"
   ]
  },
  {
   "cell_type": "code",
   "execution_count": null,
   "metadata": {
    "collapsed": true
   },
   "outputs": [],
   "source": [
    "default_camera = Camera('location', [0, 14, -28], 'look_at', [0, 0, -3])"
   ]
  },
  {
   "cell_type": "markdown",
   "metadata": {},
   "source": [
    "The `default_camera` variable stores a `Camera` object (part of the `vapory` library) and gives some cryptic looking arguments namely two strings and two lists with three elements each. We will not discuss these arguments in depth, see the **TODO: model manual** for further details, however the first list ('location') `[0, 14, -28]` defines the *location* of the camera in our scene which functions as the viewer's eye and the second list ('look_at') `[0, 0, -3]` specifies the *direction* the camera is facing.\n",
    "\n",
    "Each of these lists - and you'll see more examples of these very soon - always consists of three values corresponding to `x`, `y` and `z` coordinates in our scene using the [*Cartesian coordinate system*](https://en.wikipedia.org/wiki/Cartesian_coordinate_system).\n",
    "\n",
    "The second argument to the `Scene` object is in the form of `objects=[povray.default_light]`; a *named argument* with **objects** as **keyword** and a `list` with an imported *light source* as **value**. \n",
    "\n",
    "The `Scene` object takes a number of other (not shown) arguments which all use keywords so we can easily select which ones we provide.\n",
    "\n",
    "A *light source* is the other required element for a rendering as it provides the *rays* to trace and there is a predefined light available in the `models.py` module and is defined as follows:"
   ]
  },
  {
   "cell_type": "code",
   "execution_count": null,
   "metadata": {
    "collapsed": true
   },
   "outputs": [],
   "source": [
    "default_light = LightSource([2, 4, -3], 4)"
   ]
  },
  {
   "cell_type": "markdown",
   "metadata": {},
   "source": [
    "The `vapory LightSource` object takes a large number of arguments to define its location, color, intensity, type (i.e. spotlight, area light, point light, etc.), fade distance, etc.\n",
    "\n",
    "Here we specify a location using a list where `x=2`, `y=4` and `z=1.5` and the *intensity* or brightness which in this case is `4` times brighter as default. These are values which work for our demonstration but you can experiment with different values and types yourself.\n",
    "\n",
    "With a camera and a light in our scene, we need some object for the rays to interact with. Remember that we imported a `Sphere` object from the `vapory` library that we will now add to our scene:"
   ]
  },
  {
   "cell_type": "code",
   "execution_count": null,
   "metadata": {
    "collapsed": true
   },
   "outputs": [],
   "source": [
    "sphere = Sphere([5, 2, 0], 3, povray.default_sphere_model)"
   ]
  },
  {
   "cell_type": "markdown",
   "metadata": {},
   "source": [
    "Again, we pass some parameters to this object consisting of a location using a list (`[5, 2, 0]`), an integer (`3`) defining its radius and a *model* that we get from our `povray` package. Let's take a look at what this model is from the definition in the `model.py` file:"
   ]
  },
  {
   "cell_type": "code",
   "execution_count": null,
   "metadata": {
    "collapsed": true
   },
   "outputs": [],
   "source": [
    "default_sphere_model = Texture(Pigment('color', [0.9, 0.05, 0.05], 'filter', 0.7),\n",
    "                               Finish('phong', 0.6, 'reflection', 0.4))"
   ]
  },
  {
   "cell_type": "markdown",
   "metadata": {},
   "source": [
    "This *model* defines a *Texture* that can be applied to any object (i.e. a sphere, cylinder, box, etc.). A texture is used to change the look of such an object going further than just using a different color. For instance, here we first  define a color*****, make it partly transparent (with the `filter` argument), a [`phong` highlighting](https://en.wikipedia.org/wiki/Phong_shading) and the amount of light `reflection`. As these options are only a very small subset, the **TODO: styling manual** describes these settings in greater detail with examples. For now, you *can* use this provided styling of a sphere as shown above.\n",
    "\n",
    "** * **Colors are defined with a three-element list specifying the [`rgb`](http://www.f-lohmueller.de/pov_tut/tex/tex_110e.htm) (red, green, blue) colors where each number ranges from `0` to `1` where `1` means `100%`. In this example the sphere will be 90% ('0.9') red mixed with 5% ('0.05') green and blue. \n",
    "\n",
    "Lets look at the `scene` function now that we have some objects to render:"
   ]
  },
  {
   "cell_type": "code",
   "execution_count": null,
   "metadata": {
    "collapsed": true
   },
   "outputs": [],
   "source": [
    "def scene():\n",
    "    # Create some objects to show\n",
    "    sphere = Sphere([5, 2, 0], 3, povray.default_sphere_model)\n",
    "    \n",
    "    # Return the scene for rendering\n",
    "    return Scene(povray.default_camera, \n",
    "                 objects=[povray.default_light, sphere] )"
   ]
  },
  {
   "cell_type": "markdown",
   "metadata": {},
   "source": [
    "This declaration of the `scene` function is all you need to render a single sphere and looks like this when rendered: <img src=\"https://bitbucket.org/mkempenaar/pypovray/raw/master/manual/files/my_first_render.png\" width=400>\n",
    "\n",
    "While not very exciting, we did render an image with **2** lines of code importing the libraries and another **2** lines of code to create our scene (create a sphere object and returning a `Scene` object). Adding more objects only requires one line defining the object and adding it to the `objects=[]` list in the return statement.\n",
    "\n",
    "Again, notice that we didn't do anything yet with the `step` argument of our scene function, this will be part of the next example where we will move our sphere in some direction.\n",
    "\n",
    "### Full Example Code\n",
    "\n",
    "The script shown below is all you need to reproduce the image. Refer to the [`default.ini`](https://bitbucket.org/mkempenaar/pypovray/raw/master/default.ini) configuration file to see where the image is created and how it is named:"
   ]
  },
  {
   "cell_type": "code",
   "execution_count": null,
   "metadata": {
    "collapsed": true
   },
   "outputs": [],
   "source": [
    "#!/usr/bin/env python\n",
    "from povray import povray\n",
    "from vapory import Sphere, Scene\n",
    "\n",
    "def scene(step):\n",
    "    ''' Creates a sphere and places this in a scene '''\n",
    "    sphere = Sphere([5, 2, 0], 3, povray.default_sphere_model)\n",
    "\n",
    "    # Return the Scene object for rendering\n",
    "    return Scene(povray.default_camera,\n",
    "                 objects=[povray.default_light, sphere])\n",
    "\n",
    "if __name__ == '__main__':\n",
    "    # Render as an image\n",
    "    povray.make_frame(0, scene, time=True)"
   ]
  }
 ],
 "metadata": {
  "kernelspec": {
   "display_name": "Python 3",
   "language": "python",
   "name": "python3"
  },
  "language_info": {
   "codemirror_mode": {
    "name": "ipython",
    "version": 3
   },
   "file_extension": ".py",
   "mimetype": "text/x-python",
   "name": "python",
   "nbconvert_exporter": "python",
   "pygments_lexer": "ipython3",
   "version": "3.5.0"
  }
 },
 "nbformat": 4,
 "nbformat_minor": 1
}
