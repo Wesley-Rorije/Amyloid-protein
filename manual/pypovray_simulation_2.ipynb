{
 "cells": [
  {
   "cell_type": "markdown",
   "metadata": {},
   "source": [
    "# Simulation - Part 2\n",
    "\n",
    "In this document we will look at some more advanced animating options, the project structure (multi-step animations) and visualizing molecules originating from PDB-files.\n",
    "\n",
    "The sections until assignment 5 can be used as reference; just read the parts that you think you need to complete the assignments.\n",
    "\n",
    "## Table of Contents\n",
    "\n",
    "Note: links do not work on the mirror\n",
    "\n",
    "* [**Rendering a Specific Frame (number or time)**](http://nbviewer.jupyter.org/urls/bitbucket.org/mkempenaar/pypovray/raw/master/manual/pypovray_simulation_2.ipynb#Rendering-a-Specific-Frame-(number-or-time))\n",
    "\n",
    "* [**Working With Timed Animations**](http://nbviewer.jupyter.org/urls/bitbucket.org/mkempenaar/pypovray/raw/master/manual/pypovray_simulation_2.ipynb#Working-With-Timed-Animations)\n",
    "\n",
    "* [**Visualizing Molecules**](http://nbviewer.jupyter.org/urls/bitbucket.org/mkempenaar/pypovray/raw/master/manual/pypovray_simulation_2.ipynb#Visualizing-Molecules)\n",
    "\n",
    "    * [**Finding Molecules (PDB-files)**](http://nbviewer.jupyter.org/urls/bitbucket.org/mkempenaar/pypovray/raw/master/manual/pypovray_simulation_2.ipynb#Finding-Molecules-(PDB-files))\n",
    "\n",
    "    * [**Placing Molecules**](http://nbviewer.jupyter.org/urls/bitbucket.org/mkempenaar/pypovray/raw/master/manual/pypovray_simulation_2.ipynb#Placing-Molecules)\n",
    "\n",
    "    * [**Using a molecule in an animation**](http://nbviewer.jupyter.org/urls/bitbucket.org/mkempenaar/pypovray/raw/master/manual/pypovray_simulation_2.ipynb#Using-a-molecule-in-an-animation)\n",
    "\n",
    "    * [**Molecule Movement**](http://nbviewer.jupyter.org/urls/bitbucket.org/mkempenaar/pypovray/raw/master/manual/pypovray_simulation_2.ipynb#Molecule-Movement)\n",
    "\n",
    "    * [**Rotation**](http://nbviewer.jupyter.org/urls/bitbucket.org/mkempenaar/pypovray/raw/master/manual/pypovray_simulation_2.ipynb#Rotation)\n",
    "\n",
    "    * [**Splitting Molecules**](http://nbviewer.jupyter.org/urls/bitbucket.org/mkempenaar/pypovray/raw/master/manual/pypovray_simulation_2.ipynb#Splitting-Molecules)\n",
    "\n",
    "    * [**Styling**](http://nbviewer.jupyter.org/urls/bitbucket.org/mkempenaar/pypovray/raw/master/manual/pypovray_simulation_2.ipynb#Styling)\n",
    "\n",
    "        * [**Atom Labels**](http://nbviewer.jupyter.org/urls/bitbucket.org/mkempenaar/pypovray/raw/master/manual/pypovray_simulation_2.ipynb#Atom-Labels)\n",
    "\n",
    "* [**Simulation - Program Structure**](http://nbviewer.jupyter.org/urls/bitbucket.org/mkempenaar/pypovray/raw/master/manual/pypovray_simulation_2.ipynb#Simulation---Program-Structure)\n",
    "\n",
    "\n",
    "\n",
    "* [**Assignment 5 - Molecular Structures**](http://nbviewer.jupyter.org/urls/bitbucket.org/mkempenaar/pypovray/raw/master/manual/pypovray_simulation_2.ipynb#Assignment-5---Molecular-Structures)\n",
    "\n",
    "* [**Assignment 6 - Final Project Design**](http://nbviewer.jupyter.org/urls/bitbucket.org/mkempenaar/pypovray/raw/master/manual/pypovray_simulation_2.ipynb#Assignment-6---Final-Project-Design)\n",
    "\n",
    "* [**Assignment 7 - Materials & Methods chapter**](http://nbviewer.jupyter.org/urls/bitbucket.org/mkempenaar/pypovray/raw/master/manual/pypovray_simulation_2.ipynb#Assignment-6---Materials-&-Methods-chapter)\n",
    "\n",
    "\n",
    "\n",
    "## Rendering a Specific Frame (number or time)\n",
    "\n",
    "When we create an animation that runs for 30 seconds at 25 frames per second there is a total of **750** frames to be rendered. This will take a long time to do while during development, you might be interested in only a few frames to check if objects are correctly positioned. In assignments **1** and **2** we created single-frames using the `make_frame` function:\n",
    "\n",
    "    povray.make_frame(0, scene, time=False)\n",
    "\n",
    "We skipped explaining the `0`-argument given to this function which we can use to specify either a specific *frame* (when `time=False`, see below) or a specific *timepoint* (when `time=True`). To render frame 30 we could simply use:\n",
    "\n",
    "    povray.make_frame(30, scene, time=False)\n",
    "\n",
    "which creates a single image representing frame number 30.\n",
    "\n",
    "NOTE: a future update - soon(tm) - will allow a list of frame numbers or timepoints as input to render a sequence of frames. For instance to render the last second - 25 frames in total - of our large animation we could do (again, not yet implemented!):\n",
    "\n",
    "    povray.make_frame(range(725, 750), scene, time=True)\n",
    "\n",
    "\n",
    "## Working With Timed Animations\n",
    "\n",
    "In the previous assignments we used the current frame (the `step` argument) to guide our animation. In the example we used this number to calculate if we were halfway through our animation to change the direction of the object. In this document we will create an animation consisting of multiple parts and we want to keep track of the duration of each part in *seconds* instead of *frames*. This is just an alternative method and you can choose if you either use the frame number or time in your assignments.\n",
    "\n",
    "The functions for creating movie files (the `render_scene_to` functions) have a `time` argument as you might have seen in the `template.py` file:"
   ]
  },
  {
   "cell_type": "code",
   "execution_count": null,
   "metadata": {
    "collapsed": true
   },
   "outputs": [],
   "source": [
    "# Render as an MP4 movie\n",
    "povray.render_scene_to_mp4(scene, time=False)\n",
    "\n",
    "# Render as a GIF movie\n",
    "povray.render_scene_to_gif(scene, time=False)"
   ]
  },
  {
   "cell_type": "markdown",
   "metadata": {},
   "source": [
    "When we set this `time` argument to `False` the `step` argument in our `scene` function always gets the frame-*number*. So if we have an animation running for 60 frames in total we get the values `1..60` in the `scene` function.\n",
    "\n",
    "This is fine when we want to move an object like we did in assignment 3, but for a large simulation where multiple objects move at different times and different speeds etc. this might become too difficult and therefore we can choose to set the `time` argument to `True` to get the actual time in our animation. \n",
    "\n",
    "Consider the following code where the `step` variable contains the frame-*time* (doesn't create an actual animation):"
   ]
  },
  {
   "cell_type": "code",
   "execution_count": 1,
   "metadata": {
    "collapsed": false
   },
   "outputs": [
    {
     "name": "stdout",
     "output_type": "stream",
     "text": [
      "Runtime: 2.0s, FPS: 10.0, Time per frame: 0.1s\n",
      "\tTime: 0.0s\n",
      "\tTime: 0.1s\n",
      "\tTime: 0.2s\n",
      "\tTime: 0.3s\n",
      "\tTime: 0.4s\n",
      "\tTime: 0.5s\n",
      "\tTime: 0.6s\n",
      "\tTime: 0.7s\n",
      "\tTime: 0.8s\n",
      "\tTime: 0.9s\n",
      "\tTime: 1.0s\n",
      "\tTime: 1.1s\n",
      "\tTime: 1.2s\n",
      "\tTime: 1.3s\n",
      "\tTime: 1.4s\n",
      "\tTime: 1.5s\n",
      "\tTime: 1.6s\n",
      "\tTime: 1.7s\n",
      "\tTime: 1.8s\n",
      "\tTime: 1.9s\n"
     ]
    }
   ],
   "source": [
    "#!/usr/bin/env python3\n",
    "from povray import povray, SETTINGS\n",
    "from vapory import Sphere, Scene\n",
    "\n",
    "def scene(step):\n",
    "    ''' Creates a sphere and places this in a scene '''\n",
    "    sphere = Sphere([5, 2, 0], 3, povray.default_sphere_model)\n",
    "\n",
    "    print('\\tTime: ', step, 's', sep='')\n",
    "\n",
    "    # Return the Scene object for rendering\n",
    "    return Scene(povray.default_camera,\n",
    "                 objects=[povray.default_light, sphere])\n",
    "\n",
    "if __name__ == '__main__':\n",
    "    # The time taken per frame\n",
    "    print('Runtime: ', SETTINGS.Duration, 's, FPS: ', SETTINGS.RenderFPS, \n",
    "          ', Time per frame: ', eval(SETTINGS.FrameTime), 's', sep='')\n",
    "    # Render as a GIF movie, with time=True\n",
    "    povray.render_scene_to_gif(scene, time=True)"
   ]
  },
  {
   "cell_type": "markdown",
   "metadata": {},
   "source": [
    "As you can see, at each call to our `scene` function, we get the actual time in seconds. If we now want to do something from `0.5 .. 1.0` seconds we could write the following `if` statement:\n",
    "\n",
    "    if 0.5 <= step <= 1.0:\n",
    "        ...\n",
    "\n",
    "which checks if `step` is *between* 0.5 and 1.0 (an *interval comparison*).\n",
    "\n",
    "# Visualizing Molecules\n",
    "\n",
    "While molecules can be represented with known objects such as `Spheres` and optionally `Cylinders`, manually visualizing complete proteins using these objects takes a lot of time. Therefore we offer a Python `pdb` module that draws complete molecules given a *Protein Data Bank* (PDB) file that should contain familiar contents. For instance, a simple water (H2O) molecule can be described in a PDB file with:\n",
    "\n",
    "    ATOM      1  OH  OSP3    1       4.013   0.831  -9.083  1.00  0.00              \n",
    "    ATOM      2 1HH  OSP3    1       4.941   0.844  -8.837  1.00  0.00              \n",
    "    ATOM      3 2HH  OSP3    1       3.750  -0.068  -9.293  1.00  0.00              \n",
    "    TER              \n",
    "\n",
    "where each `ATOM` describes the specific atom and its location in 3D space. Such an `ATOM` 'record' in this file can contain [14 values](http://www.wwpdb.org/documentation/file-format-content/format33/sect9.html#ATOM) in *fixed-width* columns.  Optionally there can be connections defined that list connections between atoms for use in so called *ball-and-stick* models. Our module loads a PDB file and parses atoms and their position (for example the Oxygen atom is placed at `[`<font color='red'>4.013</font>`,` <font color='blue'>0.831</font>`,` <font color='green'>-9.083</font>`]`) which is defined in the following positions;\n",
    "\n",
    "    31 - 38        Real(8.3)     x            Orthogonal coordinates for X in Angstroms.\n",
    "    39 - 46        Real(8.3)     y            Orthogonal coordinates for Y in Angstroms.\n",
    "    47 - 54        Real(8.3)     z            Orthogonal coordinates for Z in Angstroms.\n",
    "\n",
    "As a user of our module you can easily load, place and orient complete molecules with a small set of simple commands which are all demonstrated below.\n",
    "\n",
    "## Finding Molecules (PDB-files)\n",
    "\n",
    "We are definately *not* going to create our own molecular structure (stored as PDB) files so we will use web-resources to gather these files when needed. Of course there is the central [*Protein Data Bank*](http://www.rcsb.org/pdb/home/home.do) (PDB) website but contents here are mostly limited to proteins (sometimes also containing its reactants). There are other web resources for non-protein molecules such as the [*World of Molecules*](http://www.worldofmolecules.com) and the [*Automated Topology Builder*](https://atb.uq.edu.au/index.py) (ATB). Performing a plain internet search combining your molecule of choice with the **PDB** term also often results in a PDB file.\n",
    "\n",
    "Once you have found the PDB-file of your choosing, you can download and store this file in the `pypovray/pdb/` folder. This folder already contains a number of - pretty random - PDB files used for the included examples.\n",
    "\n",
    "*Note*: please store the source (URL) of the PDB file in a Readme file when handing in your work. Carefully read the BlackBoard assignment instructions; all requested files (Python code, output images/ movies, PDB files and a Readme file) must be handed in.\n",
    "\n",
    "\n",
    "## Placing Molecules\n",
    "\n",
    "Once you found the molecule PDB file you'd want to visualize you can load and place it in your scene with a single line of code, just as you would with placing a `Sphere` or other Povray object. Below is a minimal example (lacking proper documentation and `main` function) of rendering a single molecule:"
   ]
  },
  {
   "cell_type": "code",
   "execution_count": null,
   "metadata": {
    "collapsed": false
   },
   "outputs": [],
   "source": [
    "#!/usr/bin/env python3\n",
    "\n",
    "from povray import povray, SETTINGS, pdb\n",
    "from vapory import Scene\n",
    "\n",
    "def scene(step):\n",
    "    ''' Renders an Ethanol molecule centered in the scene '''\n",
    "    ethanol = pdb.PDBMolecule('{}/pdb/ethanol.pdb'.format(SETTINGS.AppLocation), center=True)\n",
    "    \n",
    "    # Return the Scene object for rendering\n",
    "    return Scene(povray.default_camera,\n",
    "                 objects=[povray.default_light] + ethanol.povray_molecule)\n",
    "\n",
    "if __name__ == '__main__':\n",
    "    # Render as a single image\n",
    "    povray.make_frame(0, scene, time=False)"
   ]
  },
  {
   "cell_type": "markdown",
   "metadata": {},
   "source": [
    "The output of this script is an image showing the Ethanol molecule: <img src=\"https://bitbucket.org/mkempenaar/pypovray/raw/master/manual/files/ethanol.png\" width=\"350\" />\n",
    "\n",
    "Let's take a closer look at the three main modifications when comparing this code to the code of the previous example."
   ]
  },
  {
   "cell_type": "code",
   "execution_count": 2,
   "metadata": {
    "collapsed": true
   },
   "outputs": [],
   "source": [
    "from povray import povray, SETTINGS, pdb"
   ]
  },
  {
   "cell_type": "markdown",
   "metadata": {},
   "source": [
    "Besides the known `povray` module and the `SETTINGS` object, we now also need the [`pdb` module](https://bitbucket.org/mkempenaar/pypovray/raw/master/povray/pdb.py). This module contains two classes that are used to construct our molecules and offers methods (instead of functions) to interact with these molecules."
   ]
  },
  {
   "cell_type": "code",
   "execution_count": 3,
   "metadata": {
    "collapsed": false
   },
   "outputs": [
    {
     "name": "stdout",
     "output_type": "stream",
     "text": [
      "Created a molecule from \"./povray/pdb/ethanol.pdb\" placed at [-0. -0.  0.] (centered is True)\n"
     ]
    }
   ],
   "source": [
    "ethanol = pdb.PDBMolecule('{}/pdb/ethanol.pdb'.format(SETTINGS.AppLocation), center=True)"
   ]
  },
  {
   "cell_type": "markdown",
   "metadata": {},
   "source": [
    "The code that actually loads a PDB file and gives us a `PDBMolecule` object which we store in the `ethanol` variable. With the call to `pdb.PDBMolecule()` we create a Python *object* that has a set of properties and methods of its own. Understanding these concepts and creating your own objects will be discussed in the next quarter (Informatics III).\n",
    "\n",
    "The shown example provides two arguments:\n",
    "* the path to the PDB file to use\n",
    "    * Note that we provide the *absolute* path by prefixing the file-path with the `AppLocation`. The project already provides a number of sample PDB files in the `pypovray/pdb/` folder.\n",
    "* the `center` argument that will try to center the molecule around `[`<font color='red'>0</font>`,` <font color='blue'>0</font>`,` <font color='green'>0</font>`]`.\n",
    "    * As you can see with the H2O molecule above, molecules are not centered by default (it deviates on the x- and z-axis).\n",
    "\n",
    "If you leave out the `center` argument the coordinates given in the PDB file are used for placement. There is one other way to directly place a molecule by using the `offset` argument (and using the `False` value for `center`):"
   ]
  },
  {
   "cell_type": "code",
   "execution_count": 5,
   "metadata": {
    "collapsed": false
   },
   "outputs": [
    {
     "name": "stdout",
     "output_type": "stream",
     "text": [
      "Created a molecule from \"./povray/pdb/ethanol.pdb\" placed at [ -5.91   8.85 -13.24] (centered is False)\n"
     ]
    }
   ],
   "source": [
    "ethanol = pdb.PDBMolecule('{}/pdb/ethanol.pdb'.format(SETTINGS.AppLocation), \n",
    "                          center=False, offset=[-10, 8, -5])"
   ]
  },
  {
   "cell_type": "markdown",
   "metadata": {},
   "source": [
    "This adds the given coordinates to the coordinate of each atom and thus moves it. Do note that it is always relative to its original coordinates, i.e. if a PDB file has coordinates like `[`<font color='red'>10</font>`,` <font color='blue'>-2</font>`,` <font color='green'>5</font>`]`, using an offset of `[`<font color='red'>-5</font>`,` <font color='blue'>4</font>`,` <font color='green'>8</font>`]` would place it at `[`<font color='red'>5</font>`,` <font color='blue'>2</font>`,` <font color='green'>13</font>`]`.\n",
    "\n",
    "At any time you can inspect your molecule to see where all the atoms are placed using the standard `print` function:"
   ]
  },
  {
   "cell_type": "code",
   "execution_count": 4,
   "metadata": {
    "collapsed": false
   },
   "outputs": [
    {
     "name": "stdout",
     "output_type": "stream",
     "text": [
      "\n",
      "Overview for the molecule read from ./povray/pdb/ethanol.pdb\n",
      "======================================================\n",
      "Idx\t\tAtom\t\tx\ty\tz\n",
      "0:\t\tC\t\t-0.99\t-0.20\t-0.29\t\n",
      "1:\t\tC\t\t0.50\t-0.18\t0.10\t\n",
      "2:\t\tH\t\t-1.28\t-1.20\t-0.52\t\n",
      "3:\t\tH\t\t-1.58\t0.16\t0.53\t\n",
      "4:\t\tH\t\t-1.14\t0.43\t-1.14\t\n",
      "5:\t\tH\t\t1.10\t-0.55\t-0.73\t\n",
      "6:\t\tH\t\t0.66\t-0.81\t0.98\t\n",
      "7:\t\tO\t\t0.89\t1.16\t0.42\t\n",
      "8:\t\tH\t\t1.82\t1.17\t0.66\t\n",
      "======================================================\n",
      "Molecule is currently centered at [-0. -0.  0.]\n",
      "\n"
     ]
    }
   ],
   "source": [
    "print(ethanol)"
   ]
  },
  {
   "cell_type": "markdown",
   "metadata": {},
   "source": [
    "Finally, the last code-difference is where the molecule is added to the `Scene` with:"
   ]
  },
  {
   "cell_type": "code",
   "execution_count": null,
   "metadata": {
    "collapsed": true
   },
   "outputs": [],
   "source": [
    "# Return the Scene object for rendering\n",
    "return Scene(povray.default_camera,\n",
    "             objects=[povray.default_light] + ethanol.povray_molecule)"
   ]
  },
  {
   "cell_type": "markdown",
   "metadata": {},
   "source": [
    "Here we **add** (using the `+` symbol) a `list` of atoms to the `objects` list. This is exactly the same as we did in assignment 2 with our legend. The `ethanol` object has an attribute called `povray_molecule` which is a list containing all the atoms as Povray `Spheres`.\n",
    "\n",
    "## Using a molecule in an animation\n",
    "\n",
    "We have seen how to create molecules and to give them an initial position. For some molecules this might be enough (i.e. a *membrane* can be a static element) but there will most likely be molecules that we would like to animate with (move, rotate, etc.). For this purpose we are going to review our code *structure* before showing how to actually interact with a molecule. The reason is that if we create our molecule **within** our `scene` function, the data (PDB file contents) have to be read for every frame, even if we don't move it at all! If however we create the molecule once and then just use the `molecule.povray_molecule` repeatedly our program is far more efficient.\n",
    "\n",
    "To do this, we need to create a new function that constructs our molecules that we then can use throughout our animation. There are a few downsides to the way we do this, for instance the code uses **`globals`** which are generally discouraged and might make for confusing code. But it is a tradeoff with efficiency and in this case, efficiency wins. The following code shows how to create the `ethanol` molecule in a separate function using this `global` approach:"
   ]
  },
  {
   "cell_type": "code",
   "execution_count": 7,
   "metadata": {
    "collapsed": false
   },
   "outputs": [
    {
     "name": "stdout",
     "output_type": "stream",
     "text": [
      "Created a molecule from \"./pdb/ethanol.pdb\" placed at [-0. -0.  0.] (centered is True)\n"
     ]
    }
   ],
   "source": [
    "#!/usr/bin/env python3\n",
    "\n",
    "from povray import povray, SETTINGS, pdb\n",
    "from vapory import Scene\n",
    "\n",
    "def molecules():\n",
    "    ''' Creates molecules and contains other constants '''\n",
    "    global ETHANOL\n",
    "    \n",
    "    ETHANOL = pdb.PDBMolecule('{}/pdb/ethanol.pdb'.format(SETTINGS.AppLocation), center=True)\n",
    "\n",
    "def scene(step):\n",
    "    ''' Renders an Ethanol molecule centered in the scene '''\n",
    "    \n",
    "    # Return the Scene object for rendering\n",
    "    return Scene(povray.default_camera,\n",
    "                 objects=[povray.default_light] + ETHANOL.povray_molecule)\n",
    "\n",
    "if __name__ == '__main__':\n",
    "    # Create molecule(s)\n",
    "    molecules()\n",
    "    \n",
    "    # Render as a single image\n",
    "    povray.make_frame(0, scene, time=False)"
   ]
  },
  {
   "cell_type": "markdown",
   "metadata": {},
   "source": [
    "There is one added function called `molecules` which creates a `global`-variable ETHANOL (using all-caps to indicate a global 'constant') and we call this function before the render command (`make_frame`). Once you have a global variable, all other functions in the code can *use* this object, but to *modify* it each function needs to add the `global ETHANOL` statement too as shown in the first line of the `molecule` function.\n",
    "\n",
    "From now on, we will create a single function in our scripts to hold all molecules and constants (including calculated values etc.) and only perform movement inside the `scene` function. For a complete example regarding this structure, see the [`template.pdb`](https://bitbucket.org/mkempenaar/pypovray/raw/master/template_pdb.py) file (Note: this also includes a lot of code to create *help* functionality, this will not be required content, but might be interesting to study. You can get instructions on how to use this file by running `python3 template_pdb.py -h`).\n",
    "\n",
    "## Molecule Movement\n",
    "\n",
    "Now that we have a molecule we can interact with it, such as moving it from A to B. But, since a molecule can consist of thousands of atoms, we only specify the center of the molecule. This center is calculated so that the average distance of each atom to this center-point is the smallest. \n",
    "\n",
    "To move a molecule we call one of the following methods of our molecule object:\n",
    "* `move_to([x, y, z])`: provided a list of x-, y- and z-coordinates, this moves the *center* of the molecule to the given location. \n",
    "* `move_offset([x, y, z])`: in some use case you want to move the molecule with an offset based on its current location. The arguments are:\n",
    "    * `offset`: a coordinate list [x, y, z] indicating the distance to move on the given `axis`. To move on a single axis, set the offset of the *other* axis to 0.\n",
    "\n",
    "Depending on how you structure your animation you might use either one of these functions. The code below shows a few examples on how to move our `ethanol` molecule:"
   ]
  },
  {
   "cell_type": "code",
   "execution_count": null,
   "metadata": {
    "collapsed": true
   },
   "outputs": [],
   "source": [
    "# Places the whole molecule centered at the given coordinate\n",
    "ethanol.move_to([10, 5, -5]) \n",
    "\n",
    "# Moves the molecule 0.5-points on the x- and z-axis from the current position\n",
    "ethanol.move_offset([0.5, 0, 0.5])\n",
    "\n",
    "# Moves the molecule on all axis by the given values (2 points)\n",
    "ethanol.move_offset([2, 2, 2]) "
   ]
  },
  {
   "cell_type": "markdown",
   "metadata": {},
   "source": [
    "## Rotation\n",
    "\n",
    "Besides moving a `PDBMolecule` object can also be *rotated*, in all directions. To rotate a molecule you need to provide at least the axis to rotate on (use your legend!) and the *angle* to rotate with, in **radians**. Rotating can be done with the `rotate` method:\n",
    "\n",
    "    ethanol.rotate([1, 0, 0], 0.2)\n",
    "\n",
    "where we rotate the ethanol molecule around the x-axis with `0.2` radians. To see how radians relate to degrees (and how you can convert between these two if needed), use a simple internet search. For further details and an example, see the [`template_pdb.py`](https://bitbucket.org/mkempenaar/pypovray/raw/master/template_pdb.py) file and the output on the [`pypovray`](https://bitbucket.org/mkempenaar/pypovray) repository main site, 2nd animation shown on the page.\n",
    "\n",
    "Note that rotating a molecule is a *persistant* modification of the molecule. This means that if you rotate it by 10 degrees on the x-axis in frame **1**, it retains this position in the next frame where you can rotate it by another 10 degrees. You do not need to use the `step` variable to calculate the angle. You could however calculate the angle you want to rotate with per step.\n",
    "\n",
    "## Splitting Molecules\n",
    "\n",
    "Once you created a `PDBMolecule` object, you can 'split' the molecule into two `PDBMolecule` objects. This is used for instance in the ATP to ADP example code where a charged phosphate group is split off.\n",
    "\n",
    "The `divide` method requires a list of atom indices, a name for the splitted molecule and an optional `offset` to place the splitted molecule. See line 45 in the [`atp_to_adp.py`](https://bitbucket.org/mkempenaar/pypovray/raw/master/atp_to_adp.py) example file:"
   ]
  },
  {
   "cell_type": "code",
   "execution_count": null,
   "metadata": {
    "collapsed": true
   },
   "outputs": [],
   "source": [
    "phosphate = ATP.divide([0, 1, 2, 3, 32, 7, 31], 'phosphate', offset=[0, -4, 0])"
   ]
  },
  {
   "cell_type": "markdown",
   "metadata": {},
   "source": [
    "The list of numbers `[0, 1, 2, 3, 32, 7, 31]` refer to the atom numbers by their position in the PDB file. It might be easier to add numeric labels to the atoms and get the numbers this way, see the *Atom Labels* section below.\n",
    "\n",
    "## Styling\n",
    "\n",
    "Be default the styling of the molecule depends on the atoms it consists of. Each atom has its own color and size which are loaded from the [`models.py`](https://bitbucket.org/mkempenaar/pypovray/raw/master/povray/models.py) module (**NOTE:** this list is *NOT* complete, if your molecule contains atoms not defined here it will default to a Hydrogen model!).\n",
    "\n",
    "You can however simply override the complete style of the molecule by providing a new *model* with the `model` argument when constructing the object. The code below shows the creation of a custom *model* and the construction of an ethanol molecule using this model (glass-like model)"
   ]
  },
  {
   "cell_type": "code",
   "execution_count": null,
   "metadata": {
    "collapsed": true
   },
   "outputs": [],
   "source": [
    "molecule_model = (Pigment('color', [1, 1, 1], 'transmit', 0.96),\n",
    "                  Interior('ior', 1.05), \n",
    "                  Finish('phong', 0.5, 'reflection', 0.01))\n",
    "\n",
    "# Create a molecule using a custom model\n",
    "ethanol = pdb.PDBMolecule('{}/pdb/ethanol.pdb'.format(SETTINGS.AppLocation), center=True, model=molecule_model)"
   ]
  },
  {
   "cell_type": "markdown",
   "metadata": {},
   "source": [
    "Such custom models could be used to make molecules transparent to show a 'focus' on other parts of the simulation. The image below shows the ATPase and Amylase enzymes (transparent) with their substrates; ATP and Amylopectin (colored) in their fictive active sites ([original size](https://bioinf.nl/~marcelk/pypovray/pdb_model.png)): <img src=\"https://bitbucket.org/mkempenaar/pypovray/raw/master/manual/files/pdb_model.png\" width=\"650\" />\n",
    "\n",
    "With such large enzymes the rendering time is extremely long and most likely not suitable for long simulations (probably one or more hours of rendering *per frame* on our 80-core server). \n",
    "\n",
    "### Atom Labels\n",
    "\n",
    "There is an experimental method that can be used to add text labels on all atoms. This could be helpful when an atom is in close view. The difficulty of the labels is that they should always face the camera, therefore we need to provide the active camera to this method. By default the atom index is shown (the (line)number in the PDB file), to show the atom name we need to set the `name` argument to `True` (see the [ATP to ADP](https://bitbucket.org/mkempenaar/pypovray/raw/master/manual/files/atp_to_adp.png) example image):"
   ]
  },
  {
   "cell_type": "code",
   "execution_count": null,
   "metadata": {
    "collapsed": true
   },
   "outputs": [],
   "source": [
    "# Show Atom Index (default)\n",
    "ethanol.show_label(camera=povray.default_camera, name=False)\n",
    "# Show Atom Name\n",
    "ethanol.show_label(camera=povray.default_camera, name=True)"
   ]
  },
  {
   "cell_type": "markdown",
   "metadata": {},
   "source": [
    "# Simulation - Program Structure\n",
    "\n",
    "Consider a simulation that consists of four steps. Each step shows one or a few molecules moving from A to B where they interact with some other molecules. A proton pump with co-transport of sucrose (see example picture in the introduction presentation) could consist of the following steps:\n",
    "* ATP moves to the proton pump\n",
    "* ATP activates the proton pump and reduces to ADP\n",
    "* H+ protons traverse through the pump to the extracellular space\n",
    "    * (repeat until a buildup of protons are in the extracellular space creating a charge potential)\n",
    "* A H+ proton and sucrose molecule traverse through the Sucrose-H+ cotransporter membrane molecule to the intracellular space\n",
    "\n",
    "To program these steps requires somewhere between 60 and 200 lines of code (just an estimate) depending on how 'nice' you will make the movements of all elements. Until now we placed most of our code in the `scene` function which is fine for what we have done so far. But for a simulation with multiple steps such as this, putting all the code into that single function is not what we want, it will get cluttered, hard to read and very hard to maintain or change.\n",
    "\n",
    "The solution is to first *design* your program by *identifying* parts of the program that can be seen as separate units to place them in their own functions.\n",
    "\n",
    "Using the steps outlined above we could design the program with the following functions:\n",
    "* `move_atp()`: move ATP to the proton pump\n",
    "* `activate_ppump()`: Activate proton pump (conformational change) and reduce ATP\n",
    "* `pump_protons()`: Pump multiple H+ protons to extracellular space\n",
    "* `sucrose_cotransport()`: Diffuse sucrose and H+ protons to the intracellular space\n",
    "* `scene()`: Control the simulation by calling the above listed functions in the right order and at the right moment (time- or frame-range)\n",
    "\n",
    "Use the design techniques that are taught in the Informatics class when asked to design your program in the assignments (and see the *L5_Programming_Python_Design.pdf* document in the BlackBoard *Informatica 2* course). \n",
    "\n",
    "# Assignment 5 - Molecular Structures\n",
    "\n",
    "For this programming assignment we will combine the techniques discussed above. \n",
    "\n",
    "**Step 1**\n",
    "\n",
    "Find a molecule of your choosing that you can split into multiple (minimum of two) separate components. This molecule can be anything you want, but the splitting should be based on biology! All [catabolic](https://en.wikipedia.org/wiki/Catabolism) reactions *break down* molecules into smaller components and these are all targets you can use for this visualization. A prime example of a splittable molecule is of course ATP which is shown here broken down into ADP and a Phosphate group: <img src=\"https://bitbucket.org/mkempenaar/pypovray/raw/master/manual/files/atp_to_adp.png\" width=\"650\" />\n",
    "\n",
    "Do note however that this is not an exact representation of both resulting molecules! The conformation (exact shape) of ATP changes when it is converted into ADP which is not shown in this image.\n",
    "\n",
    "\n",
    "**Step 2**\n",
    "\n",
    "Design your program based on the following steps (note, not *all* steps are actually separate steps in your program!). This (graphical) design is a separate product to hand in with the code.\n",
    "\n",
    "\n",
    "**Step 3**\n",
    "\n",
    "Visualize the molecule in the center of your image. Depending on your molecule, change the `Camera` parameters (i.e. create a new custom `Camera` object) so that the whole molecule is visible, preferably in the middle of the `Scene`.\n",
    "\n",
    "\n",
    "**Step 4**\n",
    "\n",
    "Determine the atom-indices of the part you want to split off. You can enable the atom-labels to get an idea of where each atom is. Do note however that if you split off part of the molecule, all indices are reset; if you split off atoms `[10..20]` from the original molecule which has 40 atoms in total, you get one new molecule with atoms `[1..10]` and the original molecule is left with indices `[1..30]`. \n",
    "\n",
    "Disable the atom-index label if you used it, or replace it with the atom-name label before handing in the assignment.\n",
    "\n",
    "\n",
    "**Step 5**\n",
    "\n",
    "Once you have - at least - two `PDBMolecule` objects, move them apart for a small difference to show that they are actually separate molecules.\n",
    "\n",
    "\n",
    "**Step 6**\n",
    "\n",
    "Once the molecules are separated, rotate them one full circle on whatever axis you'd like.\n",
    "\n",
    "\n",
    "**Tips**\n",
    "\n",
    "Depending on the size of your molecule and if you use a `Background` and or `Plane` object to make it look more pretty; your rendering will take a long time. Please switch to the `prototype.ini` configuration file (read the [FAQ](http://nbviewer.jupyter.org/urls/bitbucket.org/mkempenaar/pypovray/raw/master/manual/FAQ.ipynb#I-want-to-switch-between-configuration-files;-How-do-I-do-this?)) during development and switch back to the `default.ini` before you hand in your work). Additionally, you can use one of our *servers* to perform the rendering as this will enable you to use your computer for other tasks, speedup the rendering and reduce the heat buildup in the classrooms. For intermediate rendering using the `prototype.ini` file you could use:\n",
    "\n",
    "    ssh user@idefix\n",
    "\n",
    "and for the final rendering:\n",
    "\n",
    "    ssh user@assemblix\n",
    "\n",
    "\n",
    "# Assignment 6 - Final Project Design\n",
    "\n",
    "Create a design document for your final project. Discuss this with your Informatics teacher as we follow the exact same rules taught there.\n",
    "\n",
    "\n",
    "# Assignment 7 - Materials & Methods chapter\n",
    "\n",
    "This document concludes with writing your Materials and Methods chapter for the final report. You will require this chapter for the *Rapporteren* course soon™.\n",
    "\n",
    "This chapter should list *all* used materials and techniques. Materials include:\n",
    "* Used molecules in your final simulation\n",
    "* Software:\n",
    "    * Python, with libraries:\n",
    "        * povray\n",
    "        * vapory\n",
    "    * Povray ray-tracer\n",
    "\n",
    "The Methods part is a bit more vague at the moment, but things you could include are:\n",
    "* **TODO**\n",
    "\n",
    "You do *not* need to list your editors (geany, PyCharm, MS Word, OpenOffice, Dia, etc.) or your Operating System unless it is a requirement to perform your simulation (project is OS-independent).\n",
    "    \n"
   ]
  }
 ],
 "metadata": {
  "kernelspec": {
   "display_name": "Python 3",
   "language": "python",
   "name": "python3"
  },
  "language_info": {
   "codemirror_mode": {
    "name": "ipython",
    "version": 3
   },
   "file_extension": ".py",
   "mimetype": "text/x-python",
   "name": "python",
   "nbconvert_exporter": "python",
   "pygments_lexer": "ipython3",
   "version": "3.5.0"
  }
 },
 "nbformat": 4,
 "nbformat_minor": 1
}
