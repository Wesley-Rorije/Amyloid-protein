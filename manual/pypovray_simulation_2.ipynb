{
 "cells": [
  {
   "cell_type": "markdown",
   "metadata": {},
   "source": [
    "# Chapter 1\n",
    "\n",
    "In this document we will look at some more advanced animating options.\n",
    "\n",
    "## Working With Timed Animations\n",
    "\n",
    "The functions for creating movie files have a `time` argument as you might have seen in the `template.py` file:"
   ]
  },
  {
   "cell_type": "code",
   "execution_count": null,
   "metadata": {
    "collapsed": true
   },
   "outputs": [],
   "source": [
    "# Render as an MP4 movie\n",
    "povray.render_scene_to_mp4(scene, time=False)\n",
    "\n",
    "# Render as a GIF movie\n",
    "povray.render_scene_to_gif(scene, time=False)"
   ]
  },
  {
   "cell_type": "markdown",
   "metadata": {},
   "source": [
    "When we set this `time` argument to `False` the `step` argument in our `scene` function always gets the frame-*number*. So if we have an animation running for 60 frames in total we get the values `1..60` in the `scene` function.\n",
    "\n",
    "This is fine when we want to move an object like we did in assignment 3, but for a large simulation where multiple objects move at different times and different speeds etc. this might be too difficult. Therefore we can set the `time` argument to `True` to get the actual time in our animation. Consider the following code:"
   ]
  },
  {
   "cell_type": "code",
   "execution_count": null,
   "metadata": {
    "collapsed": false
   },
   "outputs": [],
   "source": [
    "#!/usr/bin/env python3\n",
    "from povray import povray\n",
    "from vapory import Sphere, Scene\n",
    "\n",
    "def scene(step):\n",
    "    ''' Creates a sphere and places this in a scene '''\n",
    "    sphere = Sphere([5, 2, 0], 3, povray.default_sphere_model)\n",
    "\n",
    "    # Return the Scene object for rendering\n",
    "    return Scene(povray.default_camera,\n",
    "                 objects=[povray.default_light, sphere])\n",
    "\n",
    "if __name__ == '__main__':\n",
    "    # Render as a GIF movie, with time=True\n",
    "    povray.render_scene_to_gif(scene, time=True)"
   ]
  }
 ],
 "metadata": {
  "kernelspec": {
   "display_name": "Python 3",
   "language": "python",
   "name": "python3"
  },
  "language_info": {
   "codemirror_mode": {
    "name": "ipython",
    "version": 3
   },
   "file_extension": ".py",
   "mimetype": "text/x-python",
   "name": "python",
   "nbconvert_exporter": "python",
   "pygments_lexer": "ipython3",
   "version": "3.5.0"
  }
 },
 "nbformat": 4,
 "nbformat_minor": 1
}
